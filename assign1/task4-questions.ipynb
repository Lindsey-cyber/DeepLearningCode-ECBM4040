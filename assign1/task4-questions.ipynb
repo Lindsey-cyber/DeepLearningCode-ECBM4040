{
 "cells": [
  {
   "cell_type": "markdown",
   "metadata": {},
   "source": [
    "## Columbia University\n",
    "### ECBM E4040 Neural Networks and Deep Learning. Fall 2024."
   ]
  },
  {
   "cell_type": "markdown",
   "metadata": {},
   "source": [
    "# Assignment 1, Task 4: Questions (10%)"
   ]
  },
  {
   "cell_type": "markdown",
   "metadata": {},
   "source": [
    "### Question 1 \n",
    "\n",
    "What is the effect of increasing the number of layers in an MLP? Based on your experiments in task 2/3, are larger models (with a greater number of hidden layers) preferred to smaller ones? Why or why not?\n",
    "\n",
    "   Your answer: **Increasing layers in an MLP may capture more complex patterns but can lead to overfitting. Based on my experiments, larger models aren’t always better accuracy(they sometimes just cannot overcome even 60%) to diminishing returns and training instability.**"
   ]
  },
  {
   "cell_type": "markdown",
   "metadata": {},
   "source": [
    "### Question 2 \n",
    "\n",
    "What is the significance of activation functions in deep learning models? Name two activation functions that you can use for a hidden layer **and** two for the output layer. \n",
    "\n",
    "   Your answer: **Activation functions introduce non-linearity. For hidden layers: ReLU, Tanh. For output: Sigmoid, Softmax.**"
   ]
  },
  {
   "cell_type": "markdown",
   "metadata": {},
   "source": [
    "### Question 3\n",
    "\n",
    "Assume you have a problem to predict the annual rainfall in a certain region with some historic numeric data that was given to you, which of these 2 models (Linear Regression vs. Logistic Regression) would you use? How would you modify the problem statement to use the other model? Do they both adopt a linear decison boundary? \n",
    "\n",
    "   Your answer: **Use Linear Regression for rainfall prediction. Modify to a binary classification (e.g., rain/no rain) to use Logistic Regression. Only Linear Regression adopts a linear decision boundary.**\n"
   ]
  },
  {
   "cell_type": "markdown",
   "metadata": {},
   "source": [
    "### Question 4\n",
    "\n",
    "What will happen if you choose a very small or a very large learning rate? \n",
    "\n",
    "   Your answer: **A small learning rate leads to slow convergence, sometimes it just lead to stagnation, while a large one may cause overshooting, disable oscilations or divergence.**"
   ]
  },
  {
   "cell_type": "markdown",
   "metadata": {},
   "source": [
    "### Question 5\n",
    "\n",
    "What is the interpretation of **perplexity** in t-SNE? How did you set this value during the tuning in task3?\n",
    "    \n",
    "   Your answer: **Perplexity in t-SNE controls local vs. global data structure. larger perplexity value can takes long time to proceed and better classification.**"
   ]
  }
 ],
 "metadata": {
  "kernelspec": {
   "display_name": "Python 3 (ipykernel)",
   "language": "python",
   "name": "python3"
  },
  "language_info": {
   "codemirror_mode": {
    "name": "ipython",
    "version": 3
   },
   "file_extension": ".py",
   "mimetype": "text/x-python",
   "name": "python",
   "nbconvert_exporter": "python",
   "pygments_lexer": "ipython3",
   "version": "3.12.4"
  },
  "vscode": {
   "interpreter": {
    "hash": "b0fa6594d8f4cbf19f97940f81e996739fb7646882a419484c72d19e05852a7e"
   }
  }
 },
 "nbformat": 4,
 "nbformat_minor": 4
}
